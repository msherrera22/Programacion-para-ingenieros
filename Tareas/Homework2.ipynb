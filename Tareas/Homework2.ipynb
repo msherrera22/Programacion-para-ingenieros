{
 "cells": [
  {
   "cell_type": "code",
   "execution_count": 1,
   "id": "c411e60a",
   "metadata": {},
   "outputs": [
    {
     "name": "stdout",
     "output_type": "stream",
     "text": [
      "Media :1.797\n",
      "Desv Est: 0.1892115218479044\n"
     ]
    }
   ],
   "source": [
    "import numpy as np\n",
    "x= np.array([1.5, 2.2, 1.56, 1.78, 1.82, 1.90, 1.66, 1.91, 1.76, 1.88])\n",
    "mn= np.mean(x)\n",
    "st= np.std(x)\n",
    "print(f\"Media :{mn}\\nDesv Est: {st}\")"
   ]
  },
  {
   "cell_type": "code",
   "execution_count": 2,
   "id": "3c509998",
   "metadata": {},
   "outputs": [
    {
     "name": "stdout",
     "output_type": "stream",
     "text": [
      "Media :0.49374101939088577\n",
      "Desv Est: 0.26357035986903965\n",
      "Suma: 9.874820387817715\n",
      "Mediana: 0.5409513141681073\n"
     ]
    }
   ],
   "source": [
    "x= np.array([0.56744433976086,  0.6871979493457484, 0.8463706897561651, 0.31110389619407564, 0.23511891089708503, 0.6577102252485975, 0.6648803069356928, 0.49989209380778477, 0.023793000481246773, 0.8777416618364761, 0.45262683262543646, 0.6430419554811486, 0.06347145550399458, 0.10628535246898096, 0.13551828266629173, 0.7030802149078524, 0.8656176079542628, 0.3939640454664668, 0.5144582885753547, 0.6255032779041944])\n",
    "su= np.sum(x)\n",
    "mn= np.mean(x)\n",
    "md = np.median(x)\n",
    "st = np.std(x)\n",
    "print(f\"Media :{mn}\\nDesv Est: {st}\\nSuma: {su}\\nMediana: {md}\")"
   ]
  },
  {
   "cell_type": "code",
   "execution_count": 5,
   "id": "18282c59",
   "metadata": {},
   "outputs": [
    {
     "data": {
      "text/plain": [
       "array([[0.56744434, 0.68719795, 0.84637069, 0.3111039 ],\n",
       "       [0.23511891, 0.65771023, 0.66488031, 0.49989209],\n",
       "       [0.023793  , 0.87774166, 0.45262683, 0.64304196],\n",
       "       [0.06347146, 0.10628535, 0.13551828, 0.70308021],\n",
       "       [0.86561761, 0.39396405, 0.51445829, 0.62550328]])"
      ]
     },
     "execution_count": 5,
     "metadata": {},
     "output_type": "execute_result"
    }
   ],
   "source": [
    "x= np.array([0.56744433976086,  0.6871979493457484, 0.8463706897561651, 0.31110389619407564, 0.23511891089708503, 0.6577102252485975, 0.6648803069356928, 0.49989209380778477, 0.023793000481246773, 0.8777416618364761, 0.45262683262543646, 0.6430419554811486, 0.06347145550399458, 0.10628535246898096, 0.13551828266629173, 0.7030802149078524, 0.8656176079542628, 0.3939640454664668, 0.5144582885753547, 0.6255032779041944]).reshape(5,4)\n",
    "x"
   ]
  },
  {
   "cell_type": "code",
   "execution_count": 7,
   "id": "a4fdf03e",
   "metadata": {},
   "outputs": [
    {
     "name": "stdout",
     "output_type": "stream",
     "text": [
      "Media de la segunda columna :0.5445798479999999\n"
     ]
    }
   ],
   "source": [
    "x= np.array([0.68719795, 0.65771023, 0.87774166, 0.10628535, 0.39396405]) \n",
    "mn= np.mean(x)\n",
    "print(f\"Media de la segunda columna :{mn}\")\n"
   ]
  },
  {
   "cell_type": "code",
   "execution_count": 8,
   "id": "9f9e1dbb",
   "metadata": {},
   "outputs": [
    {
     "name": "stdout",
     "output_type": "stream",
     "text": [
      "Mediana de la tercera fila :0.547834395\n"
     ]
    }
   ],
   "source": [
    "x= np.array([0.023793  , 0.87774166, 0.45262683, 0.64304196])\n",
    "md= np.median(x)\n",
    "print(f\"Mediana de la tercera fila :{md}\")"
   ]
  },
  {
   "cell_type": "code",
   "execution_count": 9,
   "id": "52c198a8",
   "metadata": {},
   "outputs": [
    {
     "name": "stdout",
     "output_type": "stream",
     "text": [
      "Desviacion Estandar de la fila 3 a 5 :0.2948462847490301\n"
     ]
    }
   ],
   "source": [
    "x= np.array([0.023793  , 0.87774166, 0.45262683, 0.64304196, 0.06347146, 0.10628535, 0.13551828, 0.70308021,0.86561761, 0.39396405, 0.51445829, 0.62550328])\n",
    "st= np.std(x)\n",
    "print(f\"Desviacion Estandar de la fila 3 a 5 :{st}\")"
   ]
  },
  {
   "cell_type": "code",
   "execution_count": 13,
   "id": "961da99a",
   "metadata": {},
   "outputs": [
    {
     "name": "stdout",
     "output_type": "stream",
     "text": [
      "Desviacion Estandar de la columna 1 a 3 :0.2905108162888491\n"
     ]
    }
   ],
   "source": [
    "x= np.array([0.56744434, 0.23511891, 0.023793, 0.06347146, 0.86561761, 0.68719795, 0.65771023, 0.87774166, 0.10628535, 0.39396405, 0.84637069, 0.66488031, 0.45262683, 0.13551828, 0.51445829])\n",
    "st= np.std(x)\n",
    "print(f\"Desviacion Estandar de la columna 1 a 3 :{st}\")"
   ]
  },
  {
   "cell_type": "code",
   "execution_count": null,
   "id": "65c9749d",
   "metadata": {},
   "outputs": [],
   "source": []
  }
 ],
 "metadata": {
  "kernelspec": {
   "display_name": "Python 3 (ipykernel)",
   "language": "python",
   "name": "python3"
  },
  "language_info": {
   "codemirror_mode": {
    "name": "ipython",
    "version": 3
   },
   "file_extension": ".py",
   "mimetype": "text/x-python",
   "name": "python",
   "nbconvert_exporter": "python",
   "pygments_lexer": "ipython3",
   "version": "3.9.12"
  }
 },
 "nbformat": 4,
 "nbformat_minor": 5
}
