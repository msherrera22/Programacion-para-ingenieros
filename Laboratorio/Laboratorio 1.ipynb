{
 "cells": [
  {
   "cell_type": "code",
   "execution_count": 1,
   "id": "4adb68b2",
   "metadata": {},
   "outputs": [
    {
     "ename": "SyntaxError",
     "evalue": "invalid syntax (2567157713.py, line 1)",
     "output_type": "error",
     "traceback": [
      "\u001b[0;36m  Input \u001b[0;32mIn [1]\u001b[0;36m\u001b[0m\n\u001b[0;31m    import java.util.*;\u001b[0m\n\u001b[0m                     ^\u001b[0m\n\u001b[0;31mSyntaxError\u001b[0m\u001b[0;31m:\u001b[0m invalid syntax\n"
     ]
    }
   ],
   "source": [
    "import java.util.*;\n",
    "\n",
    "         Scanner sc = new Scanner(System.in);\n",
    "         double gradosC, gradosF;\n",
    "         System.out.println(\"Introduce grados Centígrados:\");\n",
    "         gradosC = sc.nextDouble();\n",
    "         gradosKELVIN = 25 + 273.15\n",
    "         System.out.println(gradosC +\" ºC = \" + gradosF + \" ºF\");   \n",
    "    "
   ]
  },
  {
   "cell_type": "code",
   "execution_count": 2,
   "id": "16dbb5d6",
   "metadata": {},
   "outputs": [
    {
     "name": "stdout",
     "output_type": "stream",
     "text": [
      "194.87171000000012\n"
     ]
    }
   ],
   "source": [
    "interes=100*(1+0.10)**7\n",
    "print(interes)"
   ]
  },
  {
   "cell_type": "code",
   "execution_count": 3,
   "id": "443118cf",
   "metadata": {},
   "outputs": [
    {
     "name": "stdout",
     "output_type": "stream",
     "text": [
      "100\n"
     ]
    }
   ],
   "source": [
    "ahorro=100\n",
    "print(ahorro)"
   ]
  },
  {
   "cell_type": "code",
   "execution_count": 4,
   "id": "0f910153",
   "metadata": {},
   "outputs": [
    {
     "name": "stdout",
     "output_type": "stream",
     "text": [
      "194.87171000000012\n"
     ]
    }
   ],
   "source": [
    "ahorro=100\n",
    "mult_anual=(1.1)\n",
    "result=ahorro*(mult_anual)**7\n",
    "print(result)"
   ]
  },
  {
   "cell_type": "code",
   "execution_count": 5,
   "id": "df5bdf66",
   "metadata": {},
   "outputs": [
    {
     "name": "stdout",
     "output_type": "stream",
     "text": [
      "cadena de textos\n",
      "True\n"
     ]
    }
   ],
   "source": [
    "desc=str(\"cadena de textos\")\n",
    "print(desc)\n",
    "profit=bool(True)\n",
    "print(profit)"
   ]
  },
  {
   "cell_type": "code",
   "execution_count": 6,
   "id": "6c298cd4",
   "metadata": {},
   "outputs": [
    {
     "name": "stdout",
     "output_type": "stream",
     "text": [
      "110.00000000000001\n",
      "interes compuestointeres compuesto\n"
     ]
    }
   ],
   "source": [
    "ahorro=100\n",
    "mult=1.1\n",
    "desc='interes compuesto'\n",
    "año1=ahorro*(mult)\n",
    "print(año1)\n",
    "dobledesc=desc+desc\n",
    "print(dobledesc)"
   ]
  },
  {
   "cell_type": "code",
   "execution_count": 7,
   "id": "6a210b6e",
   "metadata": {},
   "outputs": [
    {
     "name": "stdout",
     "output_type": "stream",
     "text": [
      "110.00000000000001\n"
     ]
    },
    {
     "ename": "NameError",
     "evalue": "name 'prin' is not defined",
     "output_type": "error",
     "traceback": [
      "\u001b[0;31m---------------------------------------------------------------------------\u001b[0m",
      "\u001b[0;31mNameError\u001b[0m                                 Traceback (most recent call last)",
      "Input \u001b[0;32mIn [7]\u001b[0m, in \u001b[0;36m<cell line: 6>\u001b[0;34m()\u001b[0m\n\u001b[1;32m      4\u001b[0m año1\u001b[38;5;241m=\u001b[39mahorro\u001b[38;5;241m*\u001b[39m(mult)\n\u001b[1;32m      5\u001b[0m \u001b[38;5;28mprint\u001b[39m(año1)\n\u001b[0;32m----> 6\u001b[0m \u001b[43mprin\u001b[49m(\u001b[38;5;28mtype\u001b[39m(año1))\n\u001b[1;32m      7\u001b[0m dobledesc\u001b[38;5;241m=\u001b[39mdesc\u001b[38;5;241m+\u001b[39mdesc\n\u001b[1;32m      8\u001b[0m \u001b[38;5;28mprint\u001b[39m(dobledesc)\n",
      "\u001b[0;31mNameError\u001b[0m: name 'prin' is not defined"
     ]
    }
   ],
   "source": [
    "ahorro=100\n",
    "mult=1.1\n",
    "desc='interes compuesto'\n",
    "año1=ahorro*(mult)\n",
    "print(año1)\n",
    "prin(type(año1))\n",
    "dobledesc=desc+desc\n",
    "print(dobledesc)"
   ]
  },
  {
   "cell_type": "code",
   "execution_count": 8,
   "id": "08c38922",
   "metadata": {},
   "outputs": [
    {
     "ename": "SyntaxError",
     "evalue": "EOL while scanning string literal (3557050916.py, line 3)",
     "output_type": "error",
     "traceback": [
      "\u001b[0;36m  Input \u001b[0;32mIn [8]\u001b[0;36m\u001b[0m\n\u001b[0;31m    print(\"Empezamos con \" +str(ahorro) + \"y ahora mismo tengo \" +str\")\u001b[0m\n\u001b[0m                                                                       ^\u001b[0m\n\u001b[0;31mSyntaxError\u001b[0m\u001b[0;31m:\u001b[0m EOL while scanning string literal\n"
     ]
    }
   ],
   "source": [
    "ahorro=100\n",
    "resultados=100*(1.1)**7\n",
    "print(\"Empezamos con \" +str(ahorro) + \"y ahora mismo tengo \" +str\")\n",
    "pi_string = \"3.1415926\"\n",
    "pi_float=float(pi_string)\n",
    "print(pi_float)"
   ]
  },
  {
   "cell_type": "code",
   "execution_count": 9,
   "id": "0e709005",
   "metadata": {},
   "outputs": [
    {
     "name": "stdout",
     "output_type": "stream",
     "text": [
      "110.00000000000001\n"
     ]
    },
    {
     "ename": "NameError",
     "evalue": "name 'prin' is not defined",
     "output_type": "error",
     "traceback": [
      "\u001b[0;31m---------------------------------------------------------------------------\u001b[0m",
      "\u001b[0;31mNameError\u001b[0m                                 Traceback (most recent call last)",
      "Input \u001b[0;32mIn [9]\u001b[0m, in \u001b[0;36m<cell line: 6>\u001b[0;34m()\u001b[0m\n\u001b[1;32m      4\u001b[0m año1\u001b[38;5;241m=\u001b[39mahorro\u001b[38;5;241m*\u001b[39m(mult)\n\u001b[1;32m      5\u001b[0m \u001b[38;5;28mprint\u001b[39m(año1)\n\u001b[0;32m----> 6\u001b[0m \u001b[43mprin\u001b[49m(\u001b[38;5;28mtype\u001b[39m(año1))\n\u001b[1;32m      7\u001b[0m dobledesc\u001b[38;5;241m=\u001b[39mdesc\u001b[38;5;241m+\u001b[39mdesc\n\u001b[1;32m      8\u001b[0m \u001b[38;5;28mprint\u001b[39m(dobledesc)\n",
      "\u001b[0;31mNameError\u001b[0m: name 'prin' is not defined"
     ]
    }
   ],
   "source": [
    "ahorro=100\n",
    "mult=1.1\n",
    "desc='interes compuesto'\n",
    "año1=ahorro*(mult)\n",
    "print(año1)\n",
    "prin(type(año1))\n",
    "dobledesc=desc+desc\n",
    "print(dobledesc)\n",
    "print(\"Empezamos con \"+ str(ahorro)+ \"mi resultado es:\" +str(año1))"
   ]
  },
  {
   "cell_type": "code",
   "execution_count": 10,
   "id": "685ab9e3",
   "metadata": {},
   "outputs": [
    {
     "name": "stdout",
     "output_type": "stream",
     "text": [
      "110.00000000000001\n"
     ]
    },
    {
     "ename": "NameError",
     "evalue": "name 'prin' is not defined",
     "output_type": "error",
     "traceback": [
      "\u001b[0;31m---------------------------------------------------------------------------\u001b[0m",
      "\u001b[0;31mNameError\u001b[0m                                 Traceback (most recent call last)",
      "Input \u001b[0;32mIn [10]\u001b[0m, in \u001b[0;36m<cell line: 6>\u001b[0;34m()\u001b[0m\n\u001b[1;32m      4\u001b[0m año1\u001b[38;5;241m=\u001b[39mahorro\u001b[38;5;241m*\u001b[39m(mult)\n\u001b[1;32m      5\u001b[0m \u001b[38;5;28mprint\u001b[39m(año1)\n\u001b[0;32m----> 6\u001b[0m \u001b[43mprin\u001b[49m(\u001b[38;5;28mtype\u001b[39m(año1))\n\u001b[1;32m      7\u001b[0m dobledesc\u001b[38;5;241m=\u001b[39mdesc\u001b[38;5;241m+\u001b[39mdesc\n\u001b[1;32m      8\u001b[0m \u001b[38;5;28mprint\u001b[39m(dobledesc)\n",
      "\u001b[0;31mNameError\u001b[0m: name 'prin' is not defined"
     ]
    }
   ],
   "source": [
    "ahorro=100\n",
    "mult=1.1\n",
    "desc=\"interes compuesto\"\n",
    "año1=ahorro*(mult)\n",
    "print(año1)\n",
    "prin(type(año1))\n",
    "dobledesc=desc+desc\n",
    "print(dobledesc)\n",
    "print(\"Empezamos con \"+ str(ahorro)+ \"mi resultado es:\" +str(año1))"
   ]
  },
  {
   "cell_type": "code",
   "execution_count": 11,
   "id": "6354885a",
   "metadata": {},
   "outputs": [
    {
     "name": "stdout",
     "output_type": "stream",
     "text": [
      "110.00000000000001\n",
      "<class 'float'>\n",
      "interes compuestointeres compuesto\n",
      "Empezamos con 100mi resultado es:110.00000000000001\n"
     ]
    }
   ],
   "source": [
    "ahorro=100\n",
    "mult=1.1\n",
    "desc=\"interes compuesto\"\n",
    "año1=ahorro*(mult)\n",
    "print(año1)\n",
    "print(type(año1))\n",
    "dobledesc=desc+desc\n",
    "print(dobledesc)\n",
    "print(\"Empezamos con \"+ str(ahorro)+ \"mi resultado es:\" +str(año1))"
   ]
  },
  {
   "cell_type": "code",
   "execution_count": 12,
   "id": "a911a421",
   "metadata": {},
   "outputs": [
    {
     "name": "stdout",
     "output_type": "stream",
     "text": [
      "<class 'str'>\n",
      "3.1415926\n",
      "<class 'float'>\n"
     ]
    }
   ],
   "source": [
    "pi_string = \"3.1415926\"\n",
    "print(type(pi_string))\n",
    "pi_float = float (pi_string)\n",
    "print(pi_float)\n",
    "print (type (pi_float))"
   ]
  },
  {
   "cell_type": "code",
   "execution_count": null,
   "id": "1534c597",
   "metadata": {},
   "outputs": [],
   "source": []
  }
 ],
 "metadata": {
  "kernelspec": {
   "display_name": "Python 3 (ipykernel)",
   "language": "python",
   "name": "python3"
  },
  "language_info": {
   "codemirror_mode": {
    "name": "ipython",
    "version": 3
   },
   "file_extension": ".py",
   "mimetype": "text/x-python",
   "name": "python",
   "nbconvert_exporter": "python",
   "pygments_lexer": "ipython3",
   "version": "3.9.12"
  }
 },
 "nbformat": 4,
 "nbformat_minor": 5
}
